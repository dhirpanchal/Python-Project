{
 "cells": [
  {
   "cell_type": "code",
   "execution_count": null,
   "id": "f269523e",
   "metadata": {},
   "outputs": [],
   "source": [
    "class Admin():\n",
    "    def __init__(self):\n",
    "        self.food_id=0\n",
    "        self.dict_foodlist={}\n",
    "        \n",
    "    def add_food_item(self,name,price,quantity):\n",
    "        self.food_id+=1\n",
    "        self.dict_foodlist[self.food_id]=[name,price,quantity]\n",
    "        \n",
    "    def edit_food_item(self,foodid,name1,price1,quantity1):\n",
    "        self.dict_foodlist[foodid]=[name1,price1,quantity1]\n",
    "        \n",
    "    def remove_food_item(self,foodid):\n",
    "        del self.dict_foodlist[foodid]\n",
    "        \n",
    "class User(Admin):\n",
    "    def __init__(self):\n",
    "        super().__init__()\n",
    "        self.user_registration_details={}\n",
    "        self.login_credentials={}\n",
    "        \n",
    "    def user_registration(self,name,email_id,phone,address,password):\n",
    "        self.user_registration_details[email_id]=[name,phone,address,password]\n",
    "        self.login_credentials[email_id]=password\n",
    "        \n",
    "    def user_login(self,email_id,password):\n",
    "        if self.login_credentials[email_id]==password:\n",
    "            print(\"Login Successful\")\n",
    "        else:\n",
    "            print(\"Invalid Credentials\")\n",
    "            \n",
    "    def show_list_of_food(self):\n",
    "        print(self.dict_foodlist)\n",
    "    \n",
    "    def place_order():\n",
    "        pass\n",
    "    \n",
    "    def order_history():\n",
    "        pass\n",
    "    \n",
    "    def update_profile():\n",
    "        pass\n",
    "        \n",
    "        \n",
    "m1=Admin()\n",
    "m1.add_food_item(\"cake\",\"200rs\",2)\n",
    "m1.add_food_item(\"pizza\",\"400rs\",1)\n",
    "m1.add_food_item(\"burger\",\"150rs\",5)\n",
    "print(m1.dict_foodlist)\n",
    "m1.edit_food_item(2,\"chapati\",633,8)\n",
    "print(m1.dict_foodlist)\n",
    "m1.remove_food_item(2)\n",
    "print(m1.dict_foodlist)"
   ]
  }
 ],
 "metadata": {
  "kernelspec": {
   "display_name": "Python 3 (ipykernel)",
   "language": "python",
   "name": "python3"
  },
  "language_info": {
   "codemirror_mode": {
    "name": "ipython",
    "version": 3
   },
   "file_extension": ".py",
   "mimetype": "text/x-python",
   "name": "python",
   "nbconvert_exporter": "python",
   "pygments_lexer": "ipython3",
   "version": "3.10.0"
  }
 },
 "nbformat": 4,
 "nbformat_minor": 5
}
